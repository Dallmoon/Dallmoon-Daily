{
 "cells": [
  {
   "cell_type": "code",
   "execution_count": 18,
   "metadata": {},
   "outputs": [],
   "source": [
    "class Account:\n",
    "    #생성자(constructor)\n",
    "    #객체를 생성할 떄 반드시 한번 호출한다.\n",
    "    def __init__(self,cust_name, init_balance):\n",
    "        #인스턴스 멤버(속성, 데이터, 변수)\n",
    "        self.name=cust_name\n",
    "        self.balance=init_balance\n",
    "        \n",
    "    #소멸자(destructor)\n",
    "    #객체가 소멸될 떄 반드시 한번 호출한다.\n",
    "    def __del__(self):\n",
    "        pass\n",
    "    \n",
    "    #인스턴스 메소드(기능,행동)\n",
    "    def deposit(self,money):\n",
    "        if money <0:\n",
    "            return false\n",
    "        #관련 있는 변수: 멤버\n",
    "        self.balance+=money\n",
    "        return True\n",
    "    def withdraw(self,money):\n",
    "        if money> self.balance:\n",
    "            return 0\n",
    "        self.balance\n",
    "        return money\n",
    "    def transfer(self, other,money):\n",
    "        self.balance -=money\n",
    "        #다른 객체의 멤버에 바로 접근하지 않는다.\n",
    "        #다른 객체의 데이터 변경 시 반드시 상대객체가 가진 메소드에 위임을 해야한다.\n",
    "        #message passing\n",
    "        other.deposit(money)"
   ]
  },
  {
   "cell_type": "code",
   "execution_count": 19,
   "metadata": {},
   "outputs": [],
   "source": [
    "my_acnt=Account('moon',10000000000)"
   ]
  },
  {
   "cell_type": "code",
   "execution_count": 20,
   "metadata": {},
   "outputs": [],
   "source": [
    "your_anct=Account('John',0)"
   ]
  },
  {
   "cell_type": "code",
   "execution_count": null,
   "metadata": {},
   "outputs": [],
   "source": []
  }
 ],
 "metadata": {
  "kernelspec": {
   "display_name": "Python 3",
   "language": "python",
   "name": "python3"
  },
  "language_info": {
   "codemirror_mode": {
    "name": "ipython",
    "version": 3
   },
   "file_extension": ".py",
   "mimetype": "text/x-python",
   "name": "python",
   "nbconvert_exporter": "python",
   "pygments_lexer": "ipython3",
   "version": "3.7.3"
  }
 },
 "nbformat": 4,
 "nbformat_minor": 2
}
