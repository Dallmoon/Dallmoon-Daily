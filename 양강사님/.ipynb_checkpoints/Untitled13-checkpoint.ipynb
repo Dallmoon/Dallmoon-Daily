{
 "cells": [
  {
   "cell_type": "code",
   "execution_count": 10,
   "metadata": {},
   "outputs": [
    {
     "ename": "IndentationError",
     "evalue": "unexpected indent (<ipython-input-10-79964c361cd5>, line 25)",
     "output_type": "error",
     "traceback": [
      "\u001b[1;36m  File \u001b[1;32m\"<ipython-input-10-79964c361cd5>\"\u001b[1;36m, line \u001b[1;32m25\u001b[0m\n\u001b[1;33m    return money\u001b[0m\n\u001b[1;37m    ^\u001b[0m\n\u001b[1;31mIndentationError\u001b[0m\u001b[1;31m:\u001b[0m unexpected indent\n"
     ]
    }
   ],
   "source": [
    "class Account:\n",
    "    #생성자(constructor)\n",
    "    #객체를 생성할 떄 반드시 한번 호출한다.\n",
    "    def __init__(self,cust_name, init_balance):\n",
    "        #인스턴스 멤버(속성, 데이터, 변수)\n",
    "        self.name=cust_name\n",
    "        self.balance=init_balance\n",
    "        \n",
    "    #소멸자(destructor)\n",
    "    #객체가 소멸될 떄 반드시 한번 호출한다.\n",
    "    def __del__(self):\n",
    "        pass\n",
    "    \n",
    "    #인스턴스 메소드(기능,행동)\n",
    "    def deposit(self,money):\n",
    "        if money <0:\n",
    "        return false\n",
    "        #관련 있는 변수: 멤버\n",
    "        self.balance+=money\n",
    "        return True\n",
    "    def withdraw(self,money):\n",
    "        if money> self.balance:\n",
    "        return 0\n",
    "        self.balance\n",
    "        return money\n",
    "    def transfer(self, other,money):\n",
    "        pass"
   ]
  },
  {
   "cell_type": "code",
   "execution_count": 11,
   "metadata": {},
   "outputs": [
    {
     "ename": "NameError",
     "evalue": "name 'Account' is not defined",
     "output_type": "error",
     "traceback": [
      "\u001b[1;31m---------------------------------------------------------------------------\u001b[0m",
      "\u001b[1;31mNameError\u001b[0m                                 Traceback (most recent call last)",
      "\u001b[1;32m<ipython-input-11-3c813a3e99a1>\u001b[0m in \u001b[0;36m<module>\u001b[1;34m\u001b[0m\n\u001b[1;32m----> 1\u001b[1;33m \u001b[0mmy_acnt\u001b[0m\u001b[1;33m=\u001b[0m\u001b[0mAccount\u001b[0m\u001b[1;33m(\u001b[0m\u001b[1;34m'moon'\u001b[0m\u001b[1;33m,\u001b[0m\u001b[1;36m10000000000\u001b[0m\u001b[1;33m)\u001b[0m\u001b[1;33m\u001b[0m\u001b[1;33m\u001b[0m\u001b[0m\n\u001b[0m",
      "\u001b[1;31mNameError\u001b[0m: name 'Account' is not defined"
     ]
    }
   ],
   "source": [
    "my_acnt=Account('moon',10000000000)"
   ]
  },
  {
   "cell_type": "code",
   "execution_count": null,
   "metadata": {},
   "outputs": [],
   "source": []
  }
 ],
 "metadata": {
  "kernelspec": {
   "display_name": "Python 3",
   "language": "python",
   "name": "python3"
  },
  "language_info": {
   "codemirror_mode": {
    "name": "ipython",
    "version": 3
   },
   "file_extension": ".py",
   "mimetype": "text/x-python",
   "name": "python",
   "nbconvert_exporter": "python",
   "pygments_lexer": "ipython3",
   "version": "3.7.3"
  }
 },
 "nbformat": 4,
 "nbformat_minor": 2
}
