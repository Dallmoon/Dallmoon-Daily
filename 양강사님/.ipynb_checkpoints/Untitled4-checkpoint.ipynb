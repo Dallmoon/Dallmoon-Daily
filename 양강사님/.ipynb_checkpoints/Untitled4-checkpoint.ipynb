{
 "cells": [
  {
   "cell_type": "code",
   "execution_count": 2,
   "metadata": {},
   "outputs": [],
   "source": [
    "a=10\n",
    "def change_value(a, value):\n",
    "    a=value\n",
    "    print(f'{a} in change_value')"
   ]
  },
  {
   "cell_type": "code",
   "execution_count": 11,
   "metadata": {},
   "outputs": [
    {
     "name": "stdout",
     "output_type": "stream",
     "text": [
      "30 in change_value\n",
      "10 in main\n"
     ]
    }
   ],
   "source": [
    "change_value(a,30)\n",
    "print(f'{a} in main')"
   ]
  },
  {
   "cell_type": "markdown",
   "metadata": {},
   "source": [
    "# call by object reference"
   ]
  },
  {
   "cell_type": "code",
   "execution_count": 14,
   "metadata": {},
   "outputs": [],
   "source": [
    "li=[1,2,3]\n",
    "def change_index(li,idx,value):\n",
    "#     li[idx]=value\n",
    "    li=[1,200,3]\n",
    "    \n",
    "    print(li, 'in_change_index')\n",
    "    "
   ]
  },
  {
   "cell_type": "code",
   "execution_count": 15,
   "metadata": {},
   "outputs": [
    {
     "name": "stdout",
     "output_type": "stream",
     "text": [
      "[1, 200, 3] in_change_index\n",
      "[1, 2, 3] in main\n"
     ]
    }
   ],
   "source": [
    "change_index(li,1,200)\n",
    "print(li,'in main')"
   ]
  },
  {
   "cell_type": "code",
   "execution_count": 16,
   "metadata": {},
   "outputs": [],
   "source": [
    "# immutable object\n",
    "# 함수 내부에서 값을 변경할 수 없다."
   ]
  },
  {
   "cell_type": "code",
   "execution_count": 17,
   "metadata": {},
   "outputs": [],
   "source": [
    "#mutable object\n",
    "#새로운 객체를 할당하는 게 아니라면 \n",
    "#함수 내부에서 값을 변경할 수 있다."
   ]
  },
  {
   "cell_type": "markdown",
   "metadata": {},
   "source": [
    "# 함수 내부에서 튜플 값을 변경하는 방법"
   ]
  },
  {
   "cell_type": "code",
   "execution_count": 22,
   "metadata": {},
   "outputs": [],
   "source": [
    "tu=(1,2,3)\n",
    "def change_tuple(tu,el1,el2,el3):\n",
    "    tu=(el1,el2,el3)\n",
    "    print(tu,'in_Change_tuple')\n",
    "    return tu"
   ]
  },
  {
   "cell_type": "code",
   "execution_count": 23,
   "metadata": {},
   "outputs": [
    {
     "name": "stdout",
     "output_type": "stream",
     "text": [
      "(4, 5, 6) in_Change_tuple\n",
      "(4, 5, 6)\n"
     ]
    }
   ],
   "source": [
    "tu=change_tuple(tu,4,5,6)\n",
    "print(tu)"
   ]
  },
  {
   "cell_type": "markdown",
   "metadata": {},
   "source": [
    "# 지금까지 인자전달 방식에 따른 함수 구분이었음"
   ]
  },
  {
   "cell_type": "code",
   "execution_count": null,
   "metadata": {},
   "outputs": [],
   "source": []
  }
 ],
 "metadata": {
  "kernelspec": {
   "display_name": "Python 3",
   "language": "python",
   "name": "python3"
  },
  "language_info": {
   "codemirror_mode": {
    "name": "ipython",
    "version": 3
   },
   "file_extension": ".py",
   "mimetype": "text/x-python",
   "name": "python",
   "nbconvert_exporter": "python",
   "pygments_lexer": "ipython3",
   "version": "3.7.3"
  }
 },
 "nbformat": 4,
 "nbformat_minor": 2
}
