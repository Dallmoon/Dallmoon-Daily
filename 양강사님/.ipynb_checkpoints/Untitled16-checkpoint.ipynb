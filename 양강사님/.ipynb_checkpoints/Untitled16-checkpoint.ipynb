{
 "cells": [
  {
   "cell_type": "code",
   "execution_count": null,
   "metadata": {},
   "outputs": [],
   "source": [
    "def insertion_sort(li,end):\n",
    "    for i in range(1,end+1):\n",
    "        temp= li[i]\n",
    "        for j in range(i-1,-2,-1):\n",
    "            if j == -1:\n",
    "                break\n",
    "                \n",
    "            if li[j] > temp:\n",
    "                li[j+1]=li[j]\n",
    "            else:\n",
    "                break\n",
    "        li[j+1]=temp\n",
    "        "
   ]
  },
  {
   "cell_type": "code",
   "execution_count": null,
   "metadata": {},
   "outputs": [
    {
     "name": "stdout",
     "output_type": "stream",
     "text": [
      "데이터 개수(종료:0):6\n",
      "[80, 6, 98, 89, 69, 61]\n",
      "[6, 6, 61, 61, 61, 61]\n"
     ]
    }
   ],
   "source": [
    "import random\n",
    "while True:\n",
    "    num_data=int(input('데이터 개수(종료:0):'))\n",
    "    if not num_data:\n",
    "        break\n",
    "    data=[random.randint(1, 100) for _ in range(num_data)]\n",
    "    print(data)\n",
    "    insertion_sort(data, len(data)-1)\n",
    "    print(data)"
   ]
  },
  {
   "cell_type": "code",
   "execution_count": null,
   "metadata": {},
   "outputs": [],
   "source": []
  }
 ],
 "metadata": {
  "kernelspec": {
   "display_name": "Python 3",
   "language": "python",
   "name": "python3"
  }
 },
 "nbformat": 4,
 "nbformat_minor": 2
}
