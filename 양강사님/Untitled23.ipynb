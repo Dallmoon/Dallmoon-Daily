{
 "cells": [
  {
   "cell_type": "code",
   "execution_count": 1,
   "metadata": {},
   "outputs": [],
   "source": [
    "class Node:\n",
    "    def __init__(self, data=None):\n",
    "        self.prev=None\n",
    "        self.data=data\n",
    "        self.next=None\n",
    "        \n",
    "    #객체가 소멸될 떄 반드시 한 번 호출된다.    \n",
    "    def __del__(self):\n",
    "        print(f'{self.data}is deleted')\n",
    "        "
   ]
  },
  {
   "cell_type": "code",
   "execution_count": 2,
   "metadata": {},
   "outputs": [],
   "source": [
    "class DLinkedlist:\n",
    "    def __init__(self):\n",
    "        self.head= Node()\n",
    "        self.tail=Node()\n",
    "        self.d_size=0\n",
    "        \n",
    "        self.head.next=self.tail\n",
    "        self.tail.prev=self.head\n",
    "    def empty(self):\n",
    "        if self.d_size==0:\n",
    "            return True\n",
    "        return False\n",
    "    \n",
    "    def size(self):\n",
    "        return self.d_size\n",
    "    \n",
    "    def add_first(self,data):\n",
    "        new_node=Node(data)\n",
    "        \n",
    "        new_node.prev=self.head\n",
    "        new_node.next=self.head.next\n",
    "        \n",
    "        self.head.next.prev=new_node\n",
    "        self.head.next=new_node\n",
    "        \n",
    "        self.d_size+=1\n",
    "    \n",
    "    def add_last(self,data):\n",
    "        new_node=Node(data)\n",
    "        \n",
    "        new_node.prev=self.tail.prev\n",
    "        new_node.next=self.tail\n",
    "        \n",
    "        self.tail.prev.next=new_node\n",
    "        self.tail.prev=new_node\n",
    "        \n",
    "        self.d_size+=1\n",
    "    \n",
    "    def insert_after(self,data,node):\n",
    "        new_node=Node(data)\n",
    "        \n",
    "        new_node.prev=node\n",
    "        new_node.next=node.next\n",
    "        \n",
    "        node.next.prev=new_node\n",
    "        node.next=new_node\n",
    "        \n",
    "        self.d_size+=1\n",
    "        \n",
    "    def insert_before(self,data,node):\n",
    "        new_node=Node(data)\n",
    "        \n",
    "        new_node.prev=node.prev\n",
    "        new_node.next=node\n",
    "        \n",
    "        node.prev.next=new_node #코딩 순서 지키기\n",
    "        node.prev=new_node\n",
    "        \n",
    "    def search_forward(self,target):\n",
    "        cur=self.head.next\n",
    "        \n",
    "        while cur is not self.tail:\n",
    "            # is - ===\n",
    "            if cur.data==target:\n",
    "                return cur\n",
    "            cur=cur.next\n",
    "        return None\n",
    "    \n",
    "    def search_backward(self,target):\n",
    "        cur=self.tail.prev\n",
    "        \n",
    "        while cur is not self.head:\n",
    "            if cur.data==target:\n",
    "                return cur\n",
    "            cur=cur.prev\n",
    "        return None\n",
    "    def delete_first(self):\n",
    "        if self.empty():\n",
    "            return\n",
    "        self.head.next=self.head.next.next\n",
    "        self.head.next.prev=self.head\n",
    "        \n",
    "        self.d_size-=1\n",
    "    def delete_last(self):\n",
    "        if self.empty():\n",
    "            return\n",
    "        self.tail.prev=self.tail.prev.prev\n",
    "        self.tail.prev.next=self.tail\n",
    "        \n",
    "        self.d_size-=1\n",
    "        \n",
    "    def delete_node(self,node):\n",
    "#         node.prev.next=node.next\n",
    "#         node.next.prev=node.prev.next\n",
    "        node.prev.next=node.next\n",
    "        node.next.prev=node.prev\n",
    "    \n",
    "        self.d_size-=1\n",
    "\n",
    "def show_list(dlist):\n",
    "    cur=dlist.head.next\n",
    "    while cur is not dlist.tail:\n",
    "        yield cur.data\n",
    "        cur=cur.next"
   ]
  },
  {
   "cell_type": "code",
   "execution_count": 3,
   "metadata": {},
   "outputs": [],
   "source": [
    "li=DLinkedlist()"
   ]
  },
  {
   "cell_type": "code",
   "execution_count": 4,
   "metadata": {},
   "outputs": [],
   "source": [
    "li.add_first(1)\n",
    "li.add_first(2)\n",
    "li.add_last(3)"
   ]
  },
  {
   "cell_type": "code",
   "execution_count": 5,
   "metadata": {},
   "outputs": [],
   "source": [
    "def show(li):\n",
    "    for elem in show_list(li):\n",
    "        print(elem,end=' ')"
   ]
  },
  {
   "cell_type": "code",
   "execution_count": 6,
   "metadata": {},
   "outputs": [],
   "source": [
    "li.add_last(4)\n",
    "li.add_last(3)"
   ]
  },
  {
   "cell_type": "code",
   "execution_count": 7,
   "metadata": {},
   "outputs": [],
   "source": [
    "searched_node=li.search_forward(3)"
   ]
  },
  {
   "cell_type": "code",
   "execution_count": 8,
   "metadata": {},
   "outputs": [
    {
     "name": "stdout",
     "output_type": "stream",
     "text": [
      "3\n"
     ]
    }
   ],
   "source": [
    "if searched_node:\n",
    "    print(searched_node.data)\n",
    "else:\n",
    "    print('There is no such data')"
   ]
  },
  {
   "cell_type": "code",
   "execution_count": 9,
   "metadata": {},
   "outputs": [],
   "source": [
    "node=li.search_forward(3)\n",
    "if node:\n",
    "    li.insert_after(10,node)"
   ]
  },
  {
   "cell_type": "code",
   "execution_count": 10,
   "metadata": {},
   "outputs": [
    {
     "name": "stdout",
     "output_type": "stream",
     "text": [
      "2 1 3 10 4 3 "
     ]
    }
   ],
   "source": [
    "show(li)"
   ]
  },
  {
   "cell_type": "code",
   "execution_count": 12,
   "metadata": {},
   "outputs": [
    {
     "name": "stdout",
     "output_type": "stream",
     "text": [
      "10is deleted\n"
     ]
    }
   ],
   "source": [
    "li.delete_node(li.search_forward(10))"
   ]
  },
  {
   "cell_type": "code",
   "execution_count": null,
   "metadata": {},
   "outputs": [],
   "source": []
  }
 ],
 "metadata": {
  "kernelspec": {
   "display_name": "Python 3",
   "language": "python",
   "name": "python3"
  },
  "language_info": {
   "codemirror_mode": {
    "name": "ipython",
    "version": 3
   },
   "file_extension": ".py",
   "mimetype": "text/x-python",
   "name": "python",
   "nbconvert_exporter": "python",
   "pygments_lexer": "ipython3",
   "version": "3.7.3"
  }
 },
 "nbformat": 4,
 "nbformat_minor": 2
}
