{
 "cells": [
  {
   "cell_type": "markdown",
   "metadata": {},
   "source": [
    "# 스택 두 개를 이용해서 큐를 구현함."
   ]
  },
  {
   "cell_type": "code",
   "execution_count": 19,
   "metadata": {},
   "outputs": [],
   "source": [
    "class Stack:\n",
    "    def __init__(self):\n",
    "           self.container=list()\n",
    "            \n",
    "    def empty(self):\n",
    "        if not self.container:\n",
    "            return True\n",
    "        return False\n",
    "        \n",
    "    def push(self, data):\n",
    "        self.container.append(data)\n",
    "    \n",
    "    #래퍼함수\n",
    "    def pop(self):\n",
    "        return self.container.pop()\n",
    "    def peek(self):\n",
    "        return self.container[-1]\n",
    "class Queue:\n",
    "    def __init__(self):\n",
    "        self.first=Stack()\n",
    "        self.second=Stack()\n",
    "        \n",
    "    def empty(self):\n",
    "        if self.first.empty() and self.second.empty():\n",
    "            return True\n",
    "        return False\n",
    "    def enqueue(self,data):\n",
    "        self.first.push(data)\n",
    "    def dequeue(self):\n",
    "        if self.empty():\n",
    "            return None\n",
    "        #first->second\n",
    "        if self.second.empty():\n",
    "            while not self.first.empty():\n",
    "                self.second.push(self.first.pop())\n",
    "        return self.second.pop()\n",
    "    def peek(self):\n",
    "        pass"
   ]
  },
  {
   "cell_type": "code",
   "execution_count": 20,
   "metadata": {},
   "outputs": [
    {
     "name": "stdout",
     "output_type": "stream",
     "text": [
      "1\n",
      "2\n",
      "3\n",
      "4\n",
      "5\n"
     ]
    }
   ],
   "source": [
    "q= Queue()\n",
    "\n",
    "q.enqueue(1)\n",
    "q.enqueue(2)\n",
    "q.enqueue(3)\n",
    "\n",
    "print(q.dequeue())\n",
    "\n",
    "q.enqueue(4)\n",
    "q.enqueue(5)\n",
    "\n",
    "while not q.empty():\n",
    "    print(q.dequeue())"
   ]
  },
  {
   "cell_type": "code",
   "execution_count": null,
   "metadata": {},
   "outputs": [],
   "source": []
  },
  {
   "cell_type": "code",
   "execution_count": null,
   "metadata": {},
   "outputs": [],
   "source": []
  },
  {
   "cell_type": "code",
   "execution_count": null,
   "metadata": {},
   "outputs": [],
   "source": []
  }
 ],
 "metadata": {
  "kernelspec": {
   "display_name": "Python 3",
   "language": "python",
   "name": "python3"
  },
  "language_info": {
   "codemirror_mode": {
    "name": "ipython",
    "version": 3
   },
   "file_extension": ".py",
   "mimetype": "text/x-python",
   "name": "python",
   "nbconvert_exporter": "python",
   "pygments_lexer": "ipython3",
   "version": "3.7.3"
  }
 },
 "nbformat": 4,
 "nbformat_minor": 2
}
