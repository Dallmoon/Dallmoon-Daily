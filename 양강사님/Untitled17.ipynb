{
 "cells": [
  {
   "cell_type": "code",
   "execution_count": 1,
   "metadata": {},
   "outputs": [],
   "source": [
    "def insertion_sort(li):\n",
    "    n=len(li)\n",
    "    \n",
    "    for i in range(1,n):    \n",
    "        temp= li[i]\n",
    "        for j in range(i-1,-2,-1):\n",
    "            if j== -1:\n",
    "                break\n",
    "                \n",
    "            if li[j]>temp:\n",
    "                li[j+1]=li[j]\n",
    "            else:\n",
    "                break\n",
    "        li[j+1]=temp"
   ]
  },
  {
   "cell_type": "code",
   "execution_count": null,
   "metadata": {},
   "outputs": [
    {
     "name": "stdout",
     "output_type": "stream",
     "text": [
      "데이터 개수(종료:0):6\n",
      "[64, 34, 60, 59, 19, 94]\n",
      "[19, 34, 59, 60, 64, 94]\n"
     ]
    }
   ],
   "source": [
    "import random\n",
    "while True:\n",
    "    num_data=int(input('데이터 개수(종료:0):'))\n",
    "    if not num_data:\n",
    "        break\n",
    "    data=[random.randint(1, 100) for _ in range(num_data)]\n",
    "    print(data)\n",
    "    insertion_sort(data)\n",
    "    print(data)"
   ]
  },
  {
   "cell_type": "code",
   "execution_count": null,
   "metadata": {},
   "outputs": [],
   "source": []
  }
 ],
 "metadata": {
  "kernelspec": {
   "display_name": "Python 3",
   "language": "python",
   "name": "python3"
  },
  "language_info": {
   "codemirror_mode": {
    "name": "ipython",
    "version": 3
   },
   "file_extension": ".py",
   "mimetype": "text/x-python",
   "name": "python",
   "nbconvert_exporter": "python",
   "pygments_lexer": "ipython3",
   "version": "3.7.3"
  }
 },
 "nbformat": 4,
 "nbformat_minor": 2
}
