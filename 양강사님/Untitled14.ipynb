{
 "cells": [
  {
   "cell_type": "code",
   "execution_count": 1,
   "metadata": {},
   "outputs": [],
   "source": [
    "def quick_sort(li, start, end):\n",
    "    #base case\n",
    "    if start>=end:\n",
    "        return\n",
    "    #점화식\n",
    "    left=start\n",
    "    right=end\n",
    "    pivot=li[(left+right)//2]\n",
    "    \n",
    "    #right가 left보다 작을 때 멈춤\n",
    "    while left<=right :\n",
    "        #left가 pivot보다 크거나 같을 때 멈춤\n",
    "        while li[left]<pivot:\n",
    "            left+=1\n",
    "            \n",
    "        # right가 pivot보다 작거나 같을 때 멈춤    \n",
    "        while li[right]>pivot:\n",
    "            right-=1\n",
    "            \n",
    "        if left <= right:\n",
    "            li[left],li[right]=li[right],li[left]\n",
    "            left+=1\n",
    "            right-=1\n",
    "    quick_sort(li,start,right)\n",
    "    quick_sort(li,left,end)"
   ]
  },
  {
   "cell_type": "code",
   "execution_count": null,
   "metadata": {},
   "outputs": [
    {
     "name": "stdout",
     "output_type": "stream",
     "text": [
      "데이터 개수(종료:0):10\n",
      "[13, 89, 80, 99, 49, 87, 63, 36, 42, 56]\n",
      "[13, 36, 42, 49, 56, 63, 80, 87, 89, 99]\n",
      "데이터 개수(종료:0):100\n",
      "[83, 73, 22, 8, 74, 94, 44, 51, 96, 33, 24, 100, 84, 25, 14, 35, 74, 11, 66, 98, 23, 83, 10, 58, 52, 85, 53, 92, 25, 90, 13, 39, 49, 17, 33, 40, 3, 99, 1, 20, 63, 84, 51, 55, 86, 31, 65, 24, 98, 100, 46, 92, 28, 93, 75, 55, 30, 62, 75, 65, 99, 97, 56, 43, 11, 24, 5, 41, 76, 35, 66, 23, 14, 7, 57, 62, 48, 65, 34, 25, 15, 19, 30, 63, 66, 25, 76, 62, 50, 30, 56, 51, 81, 85, 91, 48, 28, 86, 85, 91]\n",
      "[1, 3, 5, 7, 8, 10, 11, 11, 13, 14, 14, 15, 17, 19, 20, 22, 23, 23, 24, 24, 24, 25, 25, 25, 25, 28, 28, 30, 30, 30, 31, 33, 33, 34, 35, 35, 39, 40, 41, 43, 44, 46, 48, 48, 49, 50, 51, 51, 51, 52, 53, 55, 55, 56, 56, 57, 58, 62, 62, 62, 63, 63, 65, 65, 65, 66, 66, 66, 73, 74, 74, 75, 75, 76, 76, 81, 83, 83, 84, 84, 85, 85, 85, 86, 86, 90, 91, 91, 92, 92, 93, 94, 96, 97, 98, 98, 99, 99, 100, 100]\n"
     ]
    }
   ],
   "source": [
    "import random\n",
    "while True:\n",
    "    num_data=int(input('데이터 개수(종료:0):'))\n",
    "    if not num_data:\n",
    "        break\n",
    "    data=[random.randint(1, 100) for _ in range(num_data)]\n",
    "    print(data)\n",
    "    quick_sort(data, 0, len(data)-1)\n",
    "    print(data)"
   ]
  },
  {
   "cell_type": "code",
   "execution_count": null,
   "metadata": {},
   "outputs": [],
   "source": []
  }
 ],
 "metadata": {
  "kernelspec": {
   "display_name": "Python 3",
   "language": "python",
   "name": "python3"
  },
  "language_info": {
   "codemirror_mode": {
    "name": "ipython",
    "version": 3
   },
   "file_extension": ".py",
   "mimetype": "text/x-python",
   "name": "python",
   "nbconvert_exporter": "python",
   "pygments_lexer": "ipython3",
   "version": "3.7.3"
  }
 },
 "nbformat": 4,
 "nbformat_minor": 2
}
