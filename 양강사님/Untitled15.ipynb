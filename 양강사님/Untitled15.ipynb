{
 "cells": [
  {
   "cell_type": "code",
   "execution_count": 1,
   "metadata": {},
   "outputs": [
    {
     "ename": "IndentationError",
     "evalue": "expected an indented block (<ipython-input-1-2182253b8986>, line 4)",
     "output_type": "error",
     "traceback": [
      "\u001b[1;36m  File \u001b[1;32m\"<ipython-input-1-2182253b8986>\"\u001b[1;36m, line \u001b[1;32m4\u001b[0m\n\u001b[1;33m    def quick_sort(li, start, end):\u001b[0m\n\u001b[1;37m      ^\u001b[0m\n\u001b[1;31mIndentationError\u001b[0m\u001b[1;31m:\u001b[0m expected an indented block\n"
     ]
    }
   ],
   "source": [
    "# def get_middle_idx(li,start,mid,end):\n",
    "# \"\"\"\n",
    "# 리스트의 맨 처음 값과 중간 값, 마지막 값 중에서 가운데 값이 위치한 인덱스를 반환한다.\n",
    "# \"\"\"\n",
    "#     idx_li=[start,mid,end]\n",
    "    \n",
    "#     if idx_li[0] > idx_li[1]:\n",
    "#         idx_li[0],idx_li[1] = idx_li[1], idx_li[0]\n",
    "#     if li\n",
    "    \n",
    "    \n",
    "#     return idx_li[1]\n",
    "\n",
    "\n",
    "def quick_sort(li, start, end):\n",
    "    #base case\n",
    "    if start>=end:\n",
    "        return\n",
    "    #점화식\n",
    "    left=start\n",
    "    right=end\n",
    "    pivot=(left+right)//2\n",
    "    \n",
    "#     mid_idx=get_middle_idx(li,start,mid,end)\n",
    "#     li[mid_idx],li[mid]=li[mid],li[mid_idx]\n",
    "    \n",
    "    while left<=right :\n",
    "        #left가 pivot보다 클 때 멈춤\n",
    "        while li[left]<pivot:\n",
    "            left+=1\n",
    "            \n",
    "        # right가 pivot보다 작을 떄 멈춤    \n",
    "        while li[right]>pivot:\n",
    "            right-=1\n",
    "            \n",
    "        if left <= right:\n",
    "            li[left],li[right]=li[right],li[left]\n",
    "            left+=1\n",
    "            right-=1\n",
    "    quick_sort(li,start,right)\n",
    "    quick_sort(li,left,end)"
   ]
  },
  {
   "cell_type": "code",
   "execution_count": null,
   "metadata": {},
   "outputs": [
    {
     "name": "stdout",
     "output_type": "stream",
     "text": [
      "데이터 개수(종료:0):9\n",
      "[61, 58, 18, 36, 43, 40, 96, 48, 3]\n",
      "[3, 18, 36, 40, 43, 48, 58, 61, 96]\n"
     ]
    }
   ],
   "source": [
    "import random\n",
    "while True:\n",
    "    num_data=int(input('데이터 개수(종료:0):'))\n",
    "    if not num_data:\n",
    "        break\n",
    "    data=[random.randint(1, 100) for _ in range(num_data)]\n",
    "    print(data)\n",
    "    quick_sort(data, 0, len(data)-1)\n",
    "    print(data)"
   ]
  },
  {
   "cell_type": "code",
   "execution_count": null,
   "metadata": {},
   "outputs": [],
   "source": []
  }
 ],
 "metadata": {
  "kernelspec": {
   "display_name": "Python 3",
   "language": "python",
   "name": "python3"
  },
  "language_info": {
   "codemirror_mode": {
    "name": "ipython",
    "version": 3
   },
   "file_extension": ".py",
   "mimetype": "text/x-python",
   "name": "python",
   "nbconvert_exporter": "python",
   "pygments_lexer": "ipython3",
   "version": "3.7.3"
  }
 },
 "nbformat": 4,
 "nbformat_minor": 2
}
