{
 "cells": [
  {
   "cell_type": "code",
   "execution_count": 2,
   "metadata": {},
   "outputs": [],
   "source": [
    "def quick_sort(li, start, end):\n",
    "    #base case\n",
    "    if start>=end:\n",
    "        return\n",
    "    #점화식\n",
    "    left=start\n",
    "    right=end\n",
    "    pivot=li[(left+right)//2]\n",
    "    \n",
    "    while left<=right :\n",
    "        #left가 pivot보다 클 때 멈춤\n",
    "        while li[left]<pivot:\n",
    "            left+=1\n",
    "            \n",
    "        # right가 pivot보다 작을 떄 멈춤    \n",
    "        while li[right]>pivot:\n",
    "            right-=1\n",
    "            \n",
    "        if left <= right:\n",
    "            li[left],li[right]=li[right],li[left]\n",
    "            left+=1\n",
    "            right-=1\n",
    "    quick_sort(li,start,right)\n",
    "    quick_sort(li,left,end)"
   ]
  },
  {
   "cell_type": "code",
   "execution_count": null,
   "metadata": {},
   "outputs": [
    {
     "name": "stdout",
     "output_type": "stream",
     "text": [
      "데이터 개수(종료:0):9\n",
      "[61, 58, 18, 36, 43, 40, 96, 48, 3]\n",
      "[3, 18, 36, 40, 43, 48, 58, 61, 96]\n"
     ]
    }
   ],
   "source": [
    "import random\n",
    "while True:\n",
    "    num_data=int(input('데이터 개수(종료:0):'))\n",
    "    if not num_data:\n",
    "        break\n",
    "    data=[random.randint(1, 100) for _ in range(num_data)]\n",
    "    print(data)\n",
    "    quick_sort(data, 0, len(data)-1)\n",
    "    print(data)"
   ]
  },
  {
   "cell_type": "code",
   "execution_count": null,
   "metadata": {},
   "outputs": [],
   "source": []
  }
 ],
 "metadata": {
  "kernelspec": {
   "display_name": "Python 3",
   "language": "python",
   "name": "python3"
  },
  "language_info": {
   "codemirror_mode": {
    "name": "ipython",
    "version": 3
   },
   "file_extension": ".py",
   "mimetype": "text/x-python",
   "name": "python",
   "nbconvert_exporter": "python",
   "pygments_lexer": "ipython3",
   "version": "3.7.3"
  }
 },
 "nbformat": 4,
 "nbformat_minor": 2
}
