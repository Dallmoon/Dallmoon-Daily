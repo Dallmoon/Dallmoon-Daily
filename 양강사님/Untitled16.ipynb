{
 "cells": [
  {
   "cell_type": "code",
   "execution_count": null,
   "metadata": {},
   "outputs": [],
   "source": [
    "def insertion_sort(li,end):\n",
    "   \n",
    "    for i in range(1,end+1):\n",
    "        temp= li[i]\n",
    "        for j in range(i-1,-2,-1):\n",
    "            if j == -1:\n",
    "                break\n",
    "                \n",
    "            if li[j] > temp:\n",
    "                li[j+1]=li[j]\n",
    "            else:\n",
    "                break\n",
    "        li[j+1]=temp\n",
    "        "
   ]
  },
  {
   "cell_type": "code",
   "execution_count": null,
   "metadata": {},
   "outputs": [
    {
     "name": "stdout",
     "output_type": "stream",
     "text": [
      "데이터 개수(종료:0):12\n",
      "[74, 51, 72, 4, 48, 42, 54, 83, 79, 56, 88, 96]\n",
      "[4, 42, 48, 51, 54, 56, 72, 74, 79, 83, 88, 96]\n",
      "데이터 개수(종료:0):12\n",
      "[48, 22, 78, 83, 49, 61, 86, 97, 87, 5, 36, 6]\n",
      "[5, 6, 22, 36, 48, 49, 61, 78, 83, 86, 87, 97]\n"
     ]
    }
   ],
   "source": [
    "import random\n",
    "while True:\n",
    "    num_data=int(input('데이터 개수(종료:0):'))\n",
    "    if not num_data:\n",
    "        break\n",
    "    data=[random.randint(1, 100) for _ in range(num_data)]\n",
    "    print(data)\n",
    "    insertion_sort(data)\n",
    "    print(data)"
   ]
  },
  {
   "cell_type": "code",
   "execution_count": null,
   "metadata": {},
   "outputs": [],
   "source": []
  }
 ],
 "metadata": {
  "kernelspec": {
   "display_name": "Python 3",
   "language": "python",
   "name": "python3"
  },
  "language_info": {
   "codemirror_mode": {
    "name": "ipython",
    "version": 3
   },
   "file_extension": ".py",
   "mimetype": "text/x-python",
   "name": "python",
   "nbconvert_exporter": "python",
   "pygments_lexer": "ipython3",
   "version": "3.7.3"
  }
 },
 "nbformat": 4,
 "nbformat_minor": 2
}
