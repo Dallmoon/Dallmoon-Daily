{
 "cells": [
  {
   "cell_type": "markdown",
   "metadata": {},
   "source": [
    "# 전역변수 (global variable) vs 지역 변수 (local variable)"
   ]
  },
  {
   "cell_type": "code",
   "execution_count": 1,
   "metadata": {},
   "outputs": [],
   "source": [
    "a=10"
   ]
  },
  {
   "cell_type": "code",
   "execution_count": 2,
   "metadata": {},
   "outputs": [],
   "source": [
    "def func():\n",
    "    b=20"
   ]
  },
  {
   "cell_type": "code",
   "execution_count": 4,
   "metadata": {},
   "outputs": [],
   "source": [
    "func()"
   ]
  },
  {
   "cell_type": "code",
   "execution_count": 5,
   "metadata": {},
   "outputs": [
    {
     "name": "stdout",
     "output_type": "stream",
     "text": [
      "10 20 30\n"
     ]
    }
   ],
   "source": [
    "a=10\n",
    "def f():\n",
    "    b=20\n",
    "    def g():\n",
    "        c=30\n",
    "        print(a,b,c)\n",
    "    g()\n",
    "f()"
   ]
  },
  {
   "cell_type": "code",
   "execution_count": 6,
   "metadata": {},
   "outputs": [],
   "source": [
    "a=10\n",
    "def func():\n",
    "    # function의 지역변수 a를 새롭게 할당함.\n",
    "    a=20\n",
    "    print(a,'in func')"
   ]
  },
  {
   "cell_type": "code",
   "execution_count": 7,
   "metadata": {},
   "outputs": [
    {
     "name": "stdout",
     "output_type": "stream",
     "text": [
      "20 in func\n",
      "10 in main\n"
     ]
    }
   ],
   "source": [
    "func()\n",
    "print(a, 'in main')"
   ]
  },
  {
   "cell_type": "code",
   "execution_count": 8,
   "metadata": {},
   "outputs": [],
   "source": [
    "a=10\n",
    "def func():\n",
    "    #global a는 전역변수로 만들어 주는 것.\n",
    "    global a\n",
    "    # function의 지역변수 a를 새롭게 할당함.\n",
    "    a=20\n",
    "    print(a,'in func')"
   ]
  },
  {
   "cell_type": "code",
   "execution_count": 13,
   "metadata": {},
   "outputs": [
    {
     "name": "stdout",
     "output_type": "stream",
     "text": [
      "30 in h\n",
      "30 in g\n",
      "10 out h\n"
     ]
    }
   ],
   "source": [
    "a=10\n",
    "b=10\n",
    "def f():\n",
    "    a=10\n",
    "    def g():\n",
    "        b=20\n",
    "        def h():\n",
    "            # 전역 변수가 아닌 b를 상위변수에 할당(전역변수 참조 불가)\n",
    "            nonlocal b\n",
    "            b=30\n",
    "            print(b, 'in h')\n",
    "        h()\n",
    "        print(b,'in g')\n",
    "    g()\n",
    "f()\n",
    "print (b , 'out h')"
   ]
  },
  {
   "cell_type": "code",
   "execution_count": 14,
   "metadata": {},
   "outputs": [],
   "source": [
    "a=10\n",
    "b=20\n",
    "def g(a,b):\n",
    "    print (a,b)\n",
    "def func(a,b):\n",
    "    #a,b는 여기선 아직 메모리 할당이 되지 않음.\n",
    "    #a,b는 매개변수\n",
    "    \n",
    "    c=a+b\n",
    "    g(a,b)# 블로킹, 스택 유지, g의 함수 스택 쌓임.\n",
    "    return c"
   ]
  },
  {
   "cell_type": "markdown",
   "metadata": {},
   "source": [
    "# 값에 의한 호출, 참조에 의한 호출\n",
    "# 함수를 실행할 때 인자(parameter)를 어떻게 전달할 것인가\n",
    "# 콜스택"
   ]
  },
  {
   "cell_type": "markdown",
   "metadata": {},
   "source": [
    "========================\n",
    "========================"
   ]
  },
  {
   "cell_type": "markdown",
   "metadata": {},
   "source": [
    "# 2교시 \n"
   ]
  },
  {
   "cell_type": "code",
   "execution_count": null,
   "metadata": {},
   "outputs": [],
   "source": []
  }
 ],
 "metadata": {
  "kernelspec": {
   "display_name": "Python 3",
   "language": "python",
   "name": "python3"
  },
  "language_info": {
   "codemirror_mode": {
    "name": "ipython",
    "version": 3
   },
   "file_extension": ".py",
   "mimetype": "text/x-python",
   "name": "python",
   "nbconvert_exporter": "python",
   "pygments_lexer": "ipython3",
   "version": "3.7.3"
  }
 },
 "nbformat": 4,
 "nbformat_minor": 2
}
