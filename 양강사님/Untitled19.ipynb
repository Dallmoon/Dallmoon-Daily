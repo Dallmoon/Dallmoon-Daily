{
 "cells": [
  {
   "cell_type": "code",
   "execution_count": 1,
   "metadata": {},
   "outputs": [],
   "source": [
    "def merge(li,start,mid,end):\n",
    "    merged=[]\n",
    "    left=start\n",
    "    right=mid+1\n",
    "    while left <= mid and right <= end:\n",
    "        if li[left] < li[right]:\n",
    "            merged.append(li[left])\n",
    "            left+=1\n",
    "        else:\n",
    "            merged.append(li[right])\n",
    "            right+=1\n",
    "    while left <= mid :\n",
    "        merged.append(li[left])#일단 한쪽은 무조건 정렬되었기 떄문에\n",
    "        left+=1\n",
    "    while right <= end:\n",
    "        merged.append(li[right])\n",
    "        right+=1\n",
    "    li[start : end+1]=merged\n",
    "        \n",
    "def merge_sort(li,start,end):\n",
    "    if start>=end:\n",
    "        return\n",
    "    mid=(start+end)//2\n",
    "    merge_sort(li,start,mid)#한쪽 라인 나눌 때 까지 블로킹\n",
    "    merge_sort(li,mid+1,end)\n",
    "    \n",
    "    merge(li,start,mid,end)"
   ]
  },
  {
   "cell_type": "code",
   "execution_count": null,
   "metadata": {},
   "outputs": [
    {
     "name": "stdout",
     "output_type": "stream",
     "text": [
      "데이터 개수(종료:0):10\n",
      "[60, 17, 63, 1, 52, 11, 5, 55, 21, 94]\n",
      "[1, 5, 11, 17, 21, 52, 55, 60, 63, 94]\n"
     ]
    }
   ],
   "source": [
    "import random\n",
    "while True:\n",
    "    num_data=int(input('데이터 개수(종료:0):'))\n",
    "    if not num_data:\n",
    "        break\n",
    "    data=[random.randint(1, 100) for _ in range(num_data)]\n",
    "    print(data)\n",
    "    merge_sort(data, 0, len(data)-1)\n",
    "    print(data)"
   ]
  },
  {
   "cell_type": "code",
   "execution_count": null,
   "metadata": {},
   "outputs": [],
   "source": []
  }
 ],
 "metadata": {
  "kernelspec": {
   "display_name": "Python 3",
   "language": "python",
   "name": "python3"
  },
  "language_info": {
   "codemirror_mode": {
    "name": "ipython",
    "version": 3
   },
   "file_extension": ".py",
   "mimetype": "text/x-python",
   "name": "python",
   "nbconvert_exporter": "python",
   "pygments_lexer": "ipython3",
   "version": "3.7.3"
  }
 },
 "nbformat": 4,
 "nbformat_minor": 2
}
