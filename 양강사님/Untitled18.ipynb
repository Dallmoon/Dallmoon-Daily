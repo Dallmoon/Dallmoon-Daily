{
 "cells": [
  {
   "cell_type": "code",
   "execution_count": 1,
   "metadata": {},
   "outputs": [],
   "source": [
    "def selection_sort(li):\n",
    "    n=len(li)\n",
    "    \n",
    "    for i in range(n-1):\n",
    "        min_idx=i\n",
    "        for j in range(i+1,n):\n",
    "            if li[j]< li[min_idx]:\n",
    "                min_idx=j\n",
    "        li[i], li[min_idx]=li[min_idx],li[i]"
   ]
  },
  {
   "cell_type": "code",
   "execution_count": null,
   "metadata": {},
   "outputs": [
    {
     "name": "stdout",
     "output_type": "stream",
     "text": [
      "데이터 개수(종료:0):10\n",
      "[32, 81, 80, 97, 37, 80, 2, 36, 97, 35]\n",
      "[2, 32, 35, 36, 37, 80, 80, 81, 97, 97]\n",
      "데이터 개수(종료:0):11\n",
      "[8, 61, 5, 13, 15, 53, 53, 23, 45, 96, 96]\n",
      "[5, 8, 13, 15, 23, 45, 53, 53, 61, 96, 96]\n",
      "데이터 개수(종료:0):100\n",
      "[15, 45, 19, 67, 8, 23, 47, 8, 6, 82, 74, 11, 30, 89, 52, 36, 41, 97, 40, 92, 19, 82, 53, 15, 76, 29, 97, 93, 82, 39, 25, 59, 21, 5, 71, 10, 29, 13, 89, 25, 5, 89, 40, 71, 40, 74, 8, 10, 72, 98, 14, 25, 18, 53, 22, 60, 43, 53, 100, 25, 19, 86, 9, 21, 16, 79, 72, 38, 22, 6, 81, 90, 26, 15, 86, 79, 62, 89, 83, 32, 7, 75, 14, 9, 25, 62, 59, 4, 73, 11, 75, 88, 30, 2, 66, 68, 57, 77, 99, 24]\n",
      "[2, 4, 5, 5, 6, 6, 7, 8, 8, 8, 9, 9, 10, 10, 11, 11, 13, 14, 14, 15, 15, 15, 16, 18, 19, 19, 19, 21, 21, 22, 22, 23, 24, 25, 25, 25, 25, 25, 26, 29, 29, 30, 30, 32, 36, 38, 39, 40, 40, 40, 41, 43, 45, 47, 52, 53, 53, 53, 57, 59, 59, 60, 62, 62, 66, 67, 68, 71, 71, 72, 72, 73, 74, 74, 75, 75, 76, 77, 79, 79, 81, 82, 82, 82, 83, 86, 86, 88, 89, 89, 89, 89, 90, 92, 93, 97, 97, 98, 99, 100]\n"
     ]
    }
   ],
   "source": [
    "import random\n",
    "while True:\n",
    "    num_data=int(input('데이터 개수(종료:0):'))\n",
    "    if not num_data:\n",
    "        break\n",
    "    data=[random.randint(1, 100) for _ in range(num_data)]\n",
    "    print(data)\n",
    "    selection_sort(data)\n",
    "    print(data)"
   ]
  },
  {
   "cell_type": "code",
   "execution_count": null,
   "metadata": {},
   "outputs": [],
   "source": []
  }
 ],
 "metadata": {
  "kernelspec": {
   "display_name": "Python 3",
   "language": "python",
   "name": "python3"
  },
  "language_info": {
   "codemirror_mode": {
    "name": "ipython",
    "version": 3
   },
   "file_extension": ".py",
   "mimetype": "text/x-python",
   "name": "python",
   "nbconvert_exporter": "python",
   "pygments_lexer": "ipython3",
   "version": "3.7.3"
  }
 },
 "nbformat": 4,
 "nbformat_minor": 2
}
